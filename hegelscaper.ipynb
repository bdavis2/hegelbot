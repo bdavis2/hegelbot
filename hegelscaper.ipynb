{
  "nbformat": 4,
  "nbformat_minor": 0,
  "metadata": {
    "colab": {
      "name": "hegelscaper.ipynb",
      "provenance": [],
      "collapsed_sections": []
    },
    "kernelspec": {
      "name": "python3",
      "display_name": "Python 3"
    }
  },
  "cells": [
    {
      "cell_type": "code",
      "metadata": {
        "id": "QRTDOIYp9jND",
        "colab": {
          "base_uri": "https://localhost:8080/",
          "height": 122
        },
        "outputId": "9e118a6d-7518-4627-c932-b62b78ecb307"
      },
      "source": [
        "import requests\n",
        "from bs4 import BeautifulSoup\n",
        "from google.colab import drive\n",
        "drive.mount('/content/drive')"
      ],
      "execution_count": null,
      "outputs": [
        {
          "output_type": "stream",
          "text": [
            "Go to this URL in a browser: https://accounts.google.com/o/oauth2/auth?client_id=947318989803-6bn6qk8qdgf4n4g3pfee6491hc0brc4i.apps.googleusercontent.com&redirect_uri=urn%3aietf%3awg%3aoauth%3a2.0%3aoob&response_type=code&scope=email%20https%3a%2f%2fwww.googleapis.com%2fauth%2fdocs.test%20https%3a%2f%2fwww.googleapis.com%2fauth%2fdrive%20https%3a%2f%2fwww.googleapis.com%2fauth%2fdrive.photos.readonly%20https%3a%2f%2fwww.googleapis.com%2fauth%2fpeopleapi.readonly\n",
            "\n",
            "Enter your authorization code:\n",
            "··········\n",
            "Mounted at /content/drive\n"
          ],
          "name": "stdout"
        }
      ]
    },
    {
      "cell_type": "code",
      "metadata": {
        "id": "jcTHoqnH95k8"
      },
      "source": [
        "URL = 'https://www.marxists.org/reference/archive/hegel/hl_index.htm'\n",
        "url_base = 'https://www.marxists.org/reference/archive/hegel/works/hl/'\n",
        "page = requests.get(URL)\n",
        "soup = BeautifulSoup(page.content, 'html.parser')\n"
      ],
      "execution_count": null,
      "outputs": []
    },
    {
      "cell_type": "code",
      "metadata": {
        "id": "VCk8eaNM-wv2",
        "colab": {
          "base_uri": "https://localhost:8080/",
          "height": 54
        },
        "outputId": "48b6d1eb-d470-4e38-8241-3cd3290739f5"
      },
      "source": [
        "links = soup.find_all(\"a\", href=True)\n",
        "links_ = []\n",
        "for link in links:\n",
        "  if \"works/hl/\" in link['href']:\n",
        "    links_.append(link['href'][9:])\n",
        "\n",
        "print( links_)\n",
        "links_ = links_[2:]\n"
      ],
      "execution_count": null,
      "outputs": [
        {
          "output_type": "stream",
          "text": [
            "['hlconten.htm', 'hl000.htm', 'hlprefac.htm#HL1_25', 'hlintro.htm#HL1_43', 'hlbegin.htm#HL1_67', 'hlbeing.htm#HL1_81', 'hlbeing.htm#HL1_81', 'hlbeing.htm#HL1_185', 'hlbeing.htm#HL1_327', 'hlessenc.htm#HL2_389', 'hlessenc.htm#HL2_393', 'hlessenc.htm#HL2_479', 'hlessenc.htm#HL2_529', 'hlnotion.htm#HL3_577', 'hlsubjec.htm#HL3_599', 'hlobject.htm#HL3_705', 'hlidea.htm#HL3_754', 'index.htm']\n"
          ],
          "name": "stdout"
        }
      ]
    },
    {
      "cell_type": "code",
      "metadata": {
        "id": "3hqNib3VEqIJ"
      },
      "source": [
        "!rm /content/drive/My\\ Drive/phenomenology.txt\n"
      ],
      "execution_count": null,
      "outputs": []
    },
    {
      "cell_type": "code",
      "metadata": {
        "id": "E3RJFD-5NBai",
        "colab": {
          "base_uri": "https://localhost:8080/",
          "height": 34
        },
        "outputId": "aa47e677-5ad6-40dd-da77-dc4f24c30288"
      },
      "source": [
        "page = requests.get('https://www.marxists.org/reference/archive/hegel/works/ph/phc4.htm')\n",
        "soup = BeautifulSoup(page.content, 'html.parser')\n",
        "stop_at = soup.find('p', class_='next')\n",
        "print(stop_at)\n"
      ],
      "execution_count": null,
      "outputs": [
        {
          "output_type": "stream",
          "text": [
            "None\n"
          ],
          "name": "stdout"
        }
      ]
    },
    {
      "cell_type": "code",
      "metadata": {
        "id": "jL4vrHY8N737",
        "colab": {
          "base_uri": "https://localhost:8080/",
          "height": 1000
        },
        "outputId": "82be996b-a07b-46cd-92cf-4e5c97a4b77c"
      },
      "source": [
        "#!rm /content/drive/My\\ Drive/phenomenology.txt\n",
        "for webpage in links_:\n",
        "  URL = url_base + webpage\n",
        "  page = requests.get(URL)\n",
        "\n",
        "  print(URL)\n",
        "\n",
        "  soup = BeautifulSoup(page.content, 'html.parser')\n",
        "  stop_at = soup.find('p', class_='next')\n",
        "  print(stop_at)\n",
        "  if stop_at is None:\n",
        "    stop_at = soup.find('p', class_='footer')\n",
        "  text = stop_at.find_all_previous('p', class_=None)\n",
        "  with open('/content/drive/My Drive/scienceoflogic.txt', 'a') as f:\n",
        "    for p in text:\n",
        "      p = p.text.split('\\n')\n",
        "      if(len(p) > 1):\n",
        "        for p_ in p[1:]:\n",
        "          f.write(p_ + '\\n')\n",
        "      else:\n",
        "        print(p)    "
      ],
      "execution_count": null,
      "outputs": [
        {
          "output_type": "stream",
          "text": [
            "rm: cannot remove '/content/drive/My Drive/phenomenology.txt': No such file or directory\n",
            "https://www.marxists.org/reference/archive/hegel/works/ph/phprefac.htm\n",
            "<p class=\"next\"><a href=\"../ph/phintro.htm\">Introduction</a>\n",
            "<br/><a href=\"../../../../../archive/marx/works/1844/manuscripts/hegel.htm\" target=\"_top\">Critique of Hegel’s Philosophy in General</a> (Marx) | \n",
            "<a href=\"../../help/finpref.htm\">Comments</a> (Finlay)</p>\n",
            "https://www.marxists.org/reference/archive/hegel/works/ph/phintro.htm\n",
            "<p class=\"next\"><a href=\"../ph/phaa.htm\">CONSCIOUSNESS</a></p>\n",
            "https://www.marxists.org/reference/archive/hegel/works/ph/phaa.htm\n",
            "<p class=\"next\"><a href=\"../ph/phab.htm\">Perception: Or Things and their Deceptiveness</a></p>\n",
            "https://www.marxists.org/reference/archive/hegel/works/ph/phab.htm\n",
            "<p class=\"next\"><a href=\"../ph/phac.htm\">Force and the Understanding</a></p>\n",
            "https://www.marxists.org/reference/archive/hegel/works/ph/phac.htm\n",
            "<p class=\"next\"><a href=\"../ph/phb.htm\">The Truth which Conscious Certainty of Self Realises</a></p>\n",
            "https://www.marxists.org/reference/archive/hegel/works/ph/phb.htm\n",
            "<p class=\"next\"><a href=\"../ph/phba.htm\">Lordship and Bondage</a></p>\n",
            "https://www.marxists.org/reference/archive/hegel/works/ph/phba.htm\n",
            "<p class=\"next\"><a href=\"../ph/phbb.htm\">The Unhappy Consciousness</a></p>\n",
            "https://www.marxists.org/reference/archive/hegel/works/ph/phbb.htm\n",
            "<p class=\"next\"><a href=\"../ph/phc1.htm\">Reason's Certainty and Reason's Truth</a></p>\n",
            "https://www.marxists.org/reference/archive/hegel/works/ph/phc1.htm\n",
            "<p class=\"next\"><a href=\"../ph/phc1a.htm\">Observation as a function of Reason</a></p>\n",
            "https://www.marxists.org/reference/archive/hegel/works/ph/phc1a.htm\n",
            "<p class=\"next\"><a href=\"../ph/phc1aa.htm\">Observation of Nature</a></p>\n",
            "https://www.marxists.org/reference/archive/hegel/works/ph/phc1aa.htm\n",
            "<p class=\"next\"><a href=\"../ph/phc1ab.htm\">LOGICAL AND PSYCHOLOGICAL LAWS</a></p>\n",
            "['Such an object which sustains the procedure in the simple activity of the notion is an organism. ']\n",
            "https://www.marxists.org/reference/archive/hegel/works/ph/phc1ab.htm\n",
            "<p class=\"next\"><a href=\"../ph/phc1ac.htm\">PHYSIOGNOMY AND PHRENOLOGY</a></p>\n",
            "[' ']\n",
            "[' ']\n",
            "[' ']\n",
            "https://www.marxists.org/reference/archive/hegel/works/ph/phc1ac.htm\n",
            "<p class=\"next\"><a href=\"../ph/phc1b.htm\">Realization of rational self-consciousness</a></p>\n",
            "https://www.marxists.org/reference/archive/hegel/works/ph/phc1b.htm\n",
            "<p class=\"next\"><a href=\"../ph/phc1ba.htm\">PLEASURE &amp; NECESSITY</a></p>\n",
            "https://www.marxists.org/reference/archive/hegel/works/ph/phc1ba.htm\n",
            "<p class=\"next\"><a href=\"../ph/phc1bb.htm\">The law of the heart</a></p>\n",
            "https://www.marxists.org/reference/archive/hegel/works/ph/phc1bb.htm\n",
            "<p class=\"next\"><a href=\"../ph/phc1bc.htm\">Virtue and the course of the world</a></p>\n",
            "https://www.marxists.org/reference/archive/hegel/works/ph/phc1bc.htm\n",
            "<p class=\"next\"><a href=\"../ph/phc1c.htm\">Individuality</a></p>\n",
            "https://www.marxists.org/reference/archive/hegel/works/ph/phc1c.htm\n",
            "<p class=\"next\"><a href=\"../ph/phc1ca.htm\">Self-contained Individuals</a></p>\n",
            "https://www.marxists.org/reference/archive/hegel/works/ph/phc1ca.htm\n",
            "<p class=\"next\"><a href=\"../ph/phc1cb.htm\">Reason as lawgiver</a></p>\n",
            "https://www.marxists.org/reference/archive/hegel/works/ph/phc1cb.htm\n",
            "<p class=\"next\"><a href=\"../ph/phc1cc.htm\">Reason as test of laws</a></p>\n",
            "https://www.marxists.org/reference/archive/hegel/works/ph/phc1cc.htm\n",
            "<p class=\"next\"><a href=\"../ph/phc2.htm\">Spirit</a></p>\n",
            "https://www.marxists.org/reference/archive/hegel/works/ph/phc2.htm\n",
            "<p class=\"next\"><a href=\"../ph/phc2a.htm\">Objective Spirit: the Ethical order</a></p>\n",
            "https://www.marxists.org/reference/archive/hegel/works/ph/phc2a.htm\n",
            "<p class=\"next\"><a href=\"../ph/phc2aa.htm\">The ethical world</a></p>\n",
            "https://www.marxists.org/reference/archive/hegel/works/ph/phc2aa.htm\n",
            "<p class=\"next\"><a href=\"../ph/phc2ab.htm\">Guilt and Destiny</a></p>\n",
            "https://www.marxists.org/reference/archive/hegel/works/ph/phc2ab.htm\n",
            "<p class=\"next\"><a href=\"../ph/phc2ac.htm\">Legal status</a></p>\n",
            "https://www.marxists.org/reference/archive/hegel/works/ph/phc2ac.htm\n",
            "<p class=\"next\"><a href=\"../ph/phc2b.htm\">Spirit in Self-Estrangement</a></p>\n",
            "https://www.marxists.org/reference/archive/hegel/works/ph/phc2b.htm\n",
            "<p class=\"next\"><a href=\"../ph/phc2b1.htm\">The World of Spirit in Self-Estrangement</a></p>\n",
            "https://www.marxists.org/reference/archive/hegel/works/ph/phc2b1.htm\n",
            "<p class=\"next\"><a href=\"../ph/phc2b1a.htm\">Culture and its field of Actuality</a></p>\n",
            "https://www.marxists.org/reference/archive/hegel/works/ph/phc2b1a.htm\n",
            "<p class=\"next\"><a href=\"../ph/phc2b1b.htm\">Belief and Pure Insight</a></p>\n",
            "https://www.marxists.org/reference/archive/hegel/works/ph/phc2b1b.htm\n",
            "<p class=\"next\"><a href=\"../ph/phc2b2.htm\">Enlightenment</a></p>\n",
            "https://www.marxists.org/reference/archive/hegel/works/ph/phc2b2.htm\n",
            "<p class=\"next\"><a href=\"../ph/phc2b2a.htm\">The struggle of enlightenment with superstition</a></p>\n",
            "https://www.marxists.org/reference/archive/hegel/works/ph/phc2b2a.htm\n",
            "<p class=\"next\"><a href=\"../ph/phc2b2b.htm\">The Truth of Enlightenment</a></p>\n",
            "https://www.marxists.org/reference/archive/hegel/works/ph/phc2b2b.htm\n",
            "<p class=\"next\"><a href=\"../ph/phc2b3.htm\">Absolute Freedom &amp; Terror</a></p>\n",
            "https://www.marxists.org/reference/archive/hegel/works/ph/phc2b3.htm\n",
            "<p class=\"next\"><a href=\"../ph/phc2c.htm\">Morality</a></p>\n",
            "https://www.marxists.org/reference/archive/hegel/works/ph/phc2c.htm\n",
            "<p class=\"next\"><a href=\"../ph/phc2ca.htm\">The Moral View of the World</a></p>\n",
            "https://www.marxists.org/reference/archive/hegel/works/ph/phc2ca.htm\n",
            "<p class=\"next\"><a href=\"../ph/phc2cb.htm\">Dissemblance</a></p>\n",
            "https://www.marxists.org/reference/archive/hegel/works/ph/phc2cb.htm\n",
            "<p class=\"next\"><a href=\"../ph/phc2cc.htm\">Conscience</a></p>\n",
            "https://www.marxists.org/reference/archive/hegel/works/ph/phc2cc.htm\n",
            "<p class=\"next\"><a href=\"../ph/phc3.htm\">Religion</a></p>\n",
            "https://www.marxists.org/reference/archive/hegel/works/ph/phc3.htm\n",
            "<p class=\"next\"><a href=\"../ph/phc3a.htm\">Natural Religion</a></p>\n",
            "https://www.marxists.org/reference/archive/hegel/works/ph/phc3a.htm\n",
            "<p class=\"next\"><a href=\"../ph/phc3b.htm\">Religion in the form of Art</a></p>\n",
            "https://www.marxists.org/reference/archive/hegel/works/ph/phc3b.htm\n",
            "<p class=\"next\"><a href=\"../ph/phc3ba.htm\">The Abstract Work of Art</a></p>\n",
            "https://www.marxists.org/reference/archive/hegel/works/ph/phc3ba.htm\n",
            "<p class=\"next\"><a href=\"../ph/phc3bb.htm\">The Living Work of Art</a></p>\n",
            "https://www.marxists.org/reference/archive/hegel/works/ph/phc3bb.htm\n",
            "<p class=\"next\"><a href=\"../ph/phc3bc.htm\">The Spiritual Work of Art</a></p>\n",
            "https://www.marxists.org/reference/archive/hegel/works/ph/phc3bc.htm\n",
            "<p class=\"next\"><a href=\"../ph/phc3c.htm\">Revealed Religion</a></p>\n",
            "https://www.marxists.org/reference/archive/hegel/works/ph/phc3c.htm\n",
            "<p class=\"next\"><a href=\"../ph/phc4.htm\">Absolute Knowledge</a></p>\n",
            "https://www.marxists.org/reference/archive/hegel/works/ph/phc4.htm\n",
            "None\n",
            "['The chalice of this realm of spirits  Foams forth to God His own Infinitude(14) ']\n"
          ],
          "name": "stdout"
        }
      ]
    }
  ]
}